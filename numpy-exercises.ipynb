{
 "cells": [
  {
   "cell_type": "code",
   "execution_count": 72,
   "metadata": {},
   "outputs": [],
   "source": [
    "#Importing numpy\n",
    "import numpy as np"
   ]
  },
  {
   "cell_type": "code",
   "execution_count": 73,
   "metadata": {},
   "outputs": [],
   "source": [
    "#Initializing the first array\n",
    "a = np.array([4, 10, 12, 23, -2, -1, 0, 0, 0, -6, 3, -7])"
   ]
  },
  {
   "cell_type": "code",
   "execution_count": 74,
   "metadata": {},
   "outputs": [
    {
     "data": {
      "text/plain": [
       "array([False, False, False, False,  True,  True, False, False, False,\n",
       "        True, False,  True])"
      ]
     },
     "execution_count": 74,
     "metadata": {},
     "output_type": "execute_result"
    }
   ],
   "source": [
    "a < 0"
   ]
  },
  {
   "cell_type": "code",
   "execution_count": 75,
   "metadata": {},
   "outputs": [
    {
     "data": {
      "text/plain": [
       "array([False, False, False, False,  True,  True, False, False, False,\n",
       "        True, False,  True])"
      ]
     },
     "execution_count": 75,
     "metadata": {},
     "output_type": "execute_result"
    }
   ],
   "source": [
    "a_mask = a < 0\n",
    "a_mask"
   ]
  },
  {
   "cell_type": "code",
   "execution_count": 76,
   "metadata": {},
   "outputs": [
    {
     "data": {
      "text/plain": [
       "array([-2, -1, -6, -7])"
      ]
     },
     "execution_count": 76,
     "metadata": {},
     "output_type": "execute_result"
    }
   ],
   "source": [
    "a[a_mask]"
   ]
  },
  {
   "cell_type": "code",
   "execution_count": 77,
   "metadata": {},
   "outputs": [
    {
     "data": {
      "text/plain": [
       "4"
      ]
     },
     "execution_count": 77,
     "metadata": {},
     "output_type": "execute_result"
    }
   ],
   "source": [
    "#How many negative numbers are there\n",
    "len(a[a < 0])"
   ]
  },
  {
   "cell_type": "code",
   "execution_count": 78,
   "metadata": {},
   "outputs": [
    {
     "data": {
      "text/plain": [
       "(4,)"
      ]
     },
     "execution_count": 78,
     "metadata": {},
     "output_type": "execute_result"
    }
   ],
   "source": [
    "a[a < 0].shape"
   ]
  },
  {
   "cell_type": "code",
   "execution_count": 79,
   "metadata": {},
   "outputs": [],
   "source": [
    "#How many positive numbers are there\n",
    "pos_num = a[a > 0]"
   ]
  },
  {
   "cell_type": "code",
   "execution_count": 80,
   "metadata": {},
   "outputs": [
    {
     "data": {
      "text/plain": [
       "3"
      ]
     },
     "execution_count": 80,
     "metadata": {},
     "output_type": "execute_result"
    }
   ],
   "source": [
    "#How many even positive numbers are there\n",
    "pos_and_even = pos_num[pos_num % 2 == 0]\n",
    "\n",
    "len(pos_and_even)"
   ]
  },
  {
   "cell_type": "code",
   "execution_count": 81,
   "metadata": {},
   "outputs": [
    {
     "data": {
      "text/plain": [
       "10"
      ]
     },
     "execution_count": 81,
     "metadata": {},
     "output_type": "execute_result"
    }
   ],
   "source": [
    "#If you added 3 to each data point, how many positive numbers would there be?\n",
    "sum_3 = a[(a + 3) > 0]\n",
    "\n",
    "len(sum_3)"
   ]
  },
  {
   "cell_type": "code",
   "execution_count": 46,
   "metadata": {},
   "outputs": [
    {
     "name": "stdout",
     "output_type": "stream",
     "text": [
      "The new mean is 74.0.\n",
      "The new standard deviation is 144.0243035046516.\n"
     ]
    }
   ],
   "source": [
    "#If you squared each number, what would the new mean and standard deviation be?\n",
    "squared_a = a ** 2\n",
    "print('The new mean is {}.'.format(squared_a.mean()))\n",
    "print('The new standard deviation is {}.'.format(squared_a.std()))"
   ]
  },
  {
   "cell_type": "code",
   "execution_count": 70,
   "metadata": {},
   "outputs": [
    {
     "data": {
      "text/plain": [
       "0.0"
      ]
     },
     "execution_count": 70,
     "metadata": {},
     "output_type": "execute_result"
    }
   ],
   "source": [
    "#Center the original dataset by subtracting the mean from each data point\n",
    "centered_a = a - a.mean()\n",
    "\n",
    "centered_a.mean()"
   ]
  },
  {
   "cell_type": "code",
   "execution_count": 71,
   "metadata": {},
   "outputs": [
    {
     "data": {
      "text/plain": [
       "array([ 0.12403473,  0.86824314,  1.11631261,  2.48069469, -0.62017367,\n",
       "       -0.49613894, -0.3721042 , -0.3721042 , -0.3721042 , -1.11631261,\n",
       "        0.        , -1.24034735])"
      ]
     },
     "execution_count": 71,
     "metadata": {},
     "output_type": "execute_result"
    }
   ],
   "source": [
    "#Calculate the z scores for each data point\n",
    "z_scores = centered_a / a.std()\n",
    "z_scores"
   ]
  },
  {
   "cell_type": "code",
   "execution_count": 49,
   "metadata": {},
   "outputs": [],
   "source": [
    "#Forming the list for the first few exercises\n",
    "a = list(range(1, 11))"
   ]
  },
  {
   "cell_type": "code",
   "execution_count": 50,
   "metadata": {},
   "outputs": [
    {
     "name": "stdout",
     "output_type": "stream",
     "text": [
      "Sum of a: 55\n",
      "Min of a: 1\n",
      "Max of a: 10\n",
      "Mean of a: 5.5\n",
      "Product of a: 3628800\n",
      "Squares of a: [1, 4, 9, 16, 25, 36, 49, 64, 81, 100]\n",
      "Odds in a: [1, 3, 5, 7, 9]\n",
      "Evens in a: [2, 4, 6, 8, 10]\n"
     ]
    }
   ],
   "source": [
    "#Assigning the proper value to each variable using the base python library\n",
    "sum_of_a = sum(a)\n",
    "print('Sum of a: {}'.format(sum_of_a))\n",
    "\n",
    "min_of_a = min(a)\n",
    "print('Min of a: {}'.format(min_of_a))\n",
    "\n",
    "max_of_a = max(a)\n",
    "print('Max of a: {}'.format(max_of_a))\n",
    "\n",
    "mean_of_a = sum_of_a / len(a)\n",
    "print('Mean of a: {}'.format(mean_of_a))\n",
    "\n",
    "product_of_a = 1\n",
    "for num in a:\n",
    "    product_of_a *= num\n",
    "\n",
    "print('Product of a: {}'.format(product_of_a))\n",
    "\n",
    "squares_of_a = [num ** 2 for num in a]\n",
    "print('Squares of a: {}'.format(squares_of_a))\n",
    "\n",
    "odds_in_a = [num for num in a if num % 2 == 1]\n",
    "print('Odds in a: {}'.format(odds_in_a))\n",
    "\n",
    "evens_in_a = [num for num in a if num % 2 == 0]\n",
    "print('Evens in a: {}'.format(evens_in_a))"
   ]
  },
  {
   "cell_type": "code",
   "execution_count": 51,
   "metadata": {},
   "outputs": [
    {
     "data": {
      "text/plain": [
       "array([[3, 4, 5],\n",
       "       [6, 7, 8]])"
      ]
     },
     "execution_count": 51,
     "metadata": {},
     "output_type": "execute_result"
    }
   ],
   "source": [
    "#Initializing the second array\n",
    "b = np.array([[3, 4, 5],\n",
    "              [6, 7, 8]])\n",
    "b"
   ]
  },
  {
   "cell_type": "code",
   "execution_count": 52,
   "metadata": {},
   "outputs": [
    {
     "name": "stdout",
     "output_type": "stream",
     "text": [
      "Sum of b: 33.\n",
      "Min of b: 3.\n",
      "Max of b: 8.\n",
      "Mean of b: 5.5.\n",
      "Product of b: 20160.\n",
      "Squares of b:\n",
      "[[ 9 16 25]\n",
      " [36 49 64]].\n",
      "Odds in b: [3 5 7].\n",
      "Evens in b: [4 6 8].\n",
      "Shape of b: (2, 3).\n",
      "b transposed:\n",
      "[[3 6]\n",
      " [4 7]\n",
      " [5 8]].\n",
      "b reshaped to (1, 6): [[3 4 5 6 7 8]].\n",
      "b reshaped to (6, 1):\n",
      "[[3]\n",
      " [4]\n",
      " [5]\n",
      " [6]\n",
      " [7]\n",
      " [8]].\n"
     ]
    }
   ],
   "source": [
    "#Assigning the proper value to each variable using the numpy library\n",
    "sum_of_b = np.sum(b)\n",
    "print('Sum of b: {}.'.format(sum_of_b))\n",
    "\n",
    "min_of_b = np.min(b)\n",
    "print('Min of b: {}.'.format(min_of_b))\n",
    "\n",
    "max_of_b = np.max(b)\n",
    "print('Max of b: {}.'.format(max_of_b))\n",
    "\n",
    "mean_of_b = np.mean(b)\n",
    "print('Mean of b: {}.'.format(mean_of_b))\n",
    "\n",
    "product_of_b = np.product(b)\n",
    "print('Product of b: {}.'.format(product_of_b))\n",
    "\n",
    "squares_of_b = np.square(b)\n",
    "print('Squares of b:\\n{}.'.format(squares_of_b))\n",
    "\n",
    "odds_in_b = b[b % 2 == 1]\n",
    "print('Odds in b: {}.'.format(odds_in_b))\n",
    "\n",
    "evens_in_b = b[b % 2 == 0]\n",
    "print('Evens in b: {}.'.format(evens_in_b))\n",
    "\n",
    "print('Shape of b: {}.'.format(b.shape))\n",
    "\n",
    "print('b transposed:\\n{}.'.format(b.transpose()))\n",
    "\n",
    "print('b reshaped to (1, 6): {}.'.format(b.reshape((1, 6))))\n",
    "\n",
    "print('b reshaped to (6, 1):\\n{}.'.format(b.reshape((6, 1))))"
   ]
  },
  {
   "cell_type": "code",
   "execution_count": 53,
   "metadata": {},
   "outputs": [],
   "source": [
    "#Creating a new array for the next set of exercises\n",
    "c = np.array([[1, 2, 3],\n",
    "              [4, 5, 6],\n",
    "              [7, 8, 9]])"
   ]
  },
  {
   "cell_type": "code",
   "execution_count": 54,
   "metadata": {},
   "outputs": [
    {
     "name": "stdout",
     "output_type": "stream",
     "text": [
      "1\n",
      "9\n",
      "45\n",
      "362880\n"
     ]
    }
   ],
   "source": [
    "#Determing the min, max, sum, and product of c\n",
    "print(c.min())\n",
    "\n",
    "print(c.max())\n",
    "\n",
    "print(c.sum())\n",
    "\n",
    "print(c.prod())"
   ]
  },
  {
   "cell_type": "code",
   "execution_count": 55,
   "metadata": {},
   "outputs": [
    {
     "name": "stdout",
     "output_type": "stream",
     "text": [
      "Standard deviation of c: 2.581988897471611.\n",
      "Variance of c: 6.666666666666667.\n",
      "Shape of c: (3, 3).\n",
      "c transposed:\n",
      "[[1 4 7]\n",
      " [2 5 8]\n",
      " [3 6 9]].\n",
      "Dot product of c with c:\n",
      "[[ 30  36  42]\n",
      " [ 66  81  96]\n",
      " [102 126 150]].\n",
      "Sum of c times c transposed: 261.\n",
      "Product of c times c transposed: 131681894400.\n"
     ]
    }
   ],
   "source": [
    "#Some math operations with a 2d matrix\n",
    "print('Standard deviation of c: {}.'.format(c.std()))\n",
    "\n",
    "print('Variance of c: {}.'.format(c.var()))\n",
    "\n",
    "print('Shape of c: {}.'.format(c.shape))\n",
    "\n",
    "print('c transposed:\\n{}.'.format(c.transpose()))\n",
    "\n",
    "print('Dot product of c with c:\\n{}.'.format(np.dot(c, c)))\n",
    "\n",
    "print('Sum of c times c transposed: {}.'.format(np.sum(c * c.transpose())))\n",
    "\n",
    "print('Product of c times c transposed: {}.'.format(np.product(c * c.transpose())))"
   ]
  },
  {
   "cell_type": "code",
   "execution_count": 56,
   "metadata": {},
   "outputs": [],
   "source": [
    "#Defining a new array for the final set of exercises\n",
    "d = np.array([[90, 30, 45, 0, 120, 180],\n",
    "              [45, -90, -30, 270, 90, 0],\n",
    "              [60, 45, -45, 90, -45, 180]])"
   ]
  },
  {
   "cell_type": "code",
   "execution_count": 57,
   "metadata": {},
   "outputs": [
    {
     "name": "stdout",
     "output_type": "stream",
     "text": [
      "Sin values of d:\n",
      "[[ 0.89399666 -0.98803162  0.85090352  0.          0.58061118 -0.80115264]\n",
      " [ 0.85090352 -0.89399666  0.98803162 -0.17604595  0.89399666  0.        ]\n",
      " [-0.30481062  0.85090352 -0.85090352  0.89399666 -0.85090352 -0.80115264]].\n",
      "\n",
      "\n",
      "Cos values of d:\n",
      "[[-0.44807362  0.15425145  0.52532199  1.          0.81418097 -0.59846007]\n",
      " [ 0.52532199 -0.44807362  0.15425145  0.98438195 -0.44807362  1.        ]\n",
      " [-0.95241298  0.52532199  0.52532199 -0.44807362  0.52532199 -0.59846007]].\n",
      "\n",
      "\n",
      "Tan values of d:\n",
      "[[-1.99520041 -6.4053312   1.61977519  0.          0.71312301  1.33869021]\n",
      " [ 1.61977519  1.99520041  6.4053312  -0.17883906 -1.99520041  0.        ]\n",
      " [ 0.32004039  1.61977519 -1.61977519 -1.99520041 -1.61977519  1.33869021]].\n",
      "\n",
      "\n",
      "Negative numbers in d: [-90 -30 -45 -45].\n",
      "\n",
      "Positive numbers in d: [ 90  30  45 120 180  45 270  90  60  45  90 180].\n",
      "\n",
      "Unique numbers in d: [-90 -45 -30   0  30  45  60  90 120 180 270].\n",
      "\n",
      "Shape of d: (3, 6).\n",
      "\n",
      "d transposed:\n",
      "[[ 90  45  60]\n",
      " [ 30 -90  45]\n",
      " [ 45 -30 -45]\n",
      " [  0 270  90]\n",
      " [120  90 -45]\n",
      " [180   0 180]].\n",
      "\n",
      "d reshaped to (9, 2):\n",
      "[[ 90  30]\n",
      " [ 45   0]\n",
      " [120 180]\n",
      " [ 45 -90]\n",
      " [-30 270]\n",
      " [ 90   0]\n",
      " [ 60  45]\n",
      " [-45  90]\n",
      " [-45 180]].\n"
     ]
    }
   ],
   "source": [
    "print('Sin values of d:\\n{}.\\n\\n'.format(np.sin(d)))\n",
    "\n",
    "print('Cos values of d:\\n{}.\\n\\n'.format(np.cos(d)))\n",
    "\n",
    "print('Tan values of d:\\n{}.\\n\\n'.format(np.tan(d)))\n",
    "\n",
    "print('Negative numbers in d: {}.\\n'.format(d[d < 0]))\n",
    "\n",
    "print('Positive numbers in d: {}.\\n'.format(d[d > 0]))\n",
    "\n",
    "print('Unique numbers in d: {}.\\n'.format(np.unique(d)))\n",
    "\n",
    "print('Shape of d: {}.\\n'.format(np.shape(d)))\n",
    "\n",
    "print('d transposed:\\n{}.\\n'.format(np.transpose(d)))\n",
    "\n",
    "print('d reshaped to (9, 2):\\n{}.'.format(np.reshape(d, (9, 2))))"
   ]
  },
  {
   "cell_type": "code",
   "execution_count": null,
   "metadata": {},
   "outputs": [],
   "source": []
  }
 ],
 "metadata": {
  "interpreter": {
   "hash": "38cca0c38332a56087b24af0bc80247f4fced29cb4f7f437d91dc159adec9c4e"
  },
  "kernelspec": {
   "display_name": "Python 3 (ipykernel)",
   "language": "python",
   "name": "python3"
  },
  "language_info": {
   "codemirror_mode": {
    "name": "ipython",
    "version": 3
   },
   "file_extension": ".py",
   "mimetype": "text/x-python",
   "name": "python",
   "nbconvert_exporter": "python",
   "pygments_lexer": "ipython3",
   "version": "3.9.12"
  }
 },
 "nbformat": 4,
 "nbformat_minor": 2
}
